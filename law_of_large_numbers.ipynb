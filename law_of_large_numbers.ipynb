{
 "cells": [
  {
   "cell_type": "markdown",
   "id": "e7871da6",
   "metadata": {},
   "source": [
    "# The Law of Large Numbers (LLN)"
   ]
  },
  {
   "cell_type": "markdown",
   "id": "fb5655e2",
   "metadata": {},
   "source": [
    "🧑🏻‍🏫 What is the LLN ? According to [Wikipedia](https://en.wikipedia.org/wiki/Law_of_large_numbers)\n",
    "\n",
    "> This theorem is a fundamental result in probability theory. It describes **the results of performing the same experiment a large number of times**. \n",
    "\n",
    "> According to this law, **the average of the results obtained from a larger number of trials should be close to the expected value, the theoretical average value**, and it will tend to become closer to the expected value as more trials as performed"
   ]
  },
  {
   "cell_type": "code",
   "execution_count": 1,
   "id": "85106357",
   "metadata": {},
   "outputs": [],
   "source": [
    "import numpy as np\n",
    "import matplotlib.pyplot as plt"
   ]
  },
  {
   "cell_type": "markdown",
   "id": "2a024d05",
   "metadata": {},
   "source": [
    "## 🎲 Rolling a dice"
   ]
  },
  {
   "cell_type": "markdown",
   "id": "c5397400",
   "metadata": {},
   "source": [
    "🎲 Rolling a dice is a random experiment with 6 possible outcomes : 1, 2, 3, 4, 5, 6.\n",
    "\n",
    "🤔 How can I roll a dice in a Jupyter Notebook ?\n",
    "\n",
    "👉 [numpy.random.randint](https://numpy.org/doc/stable/reference/random/generated/numpy.random.randint.html) returns a random integer between `low` (inclusive) and `high` (exclusive)"
   ]
  },
  {
   "cell_type": "code",
   "execution_count": 13,
   "id": "f3b8d333",
   "metadata": {},
   "outputs": [
    {
     "data": {
      "text/plain": [
       "2"
      ]
     },
     "execution_count": 13,
     "metadata": {},
     "output_type": "execute_result"
    }
   ],
   "source": [
    "# Run this cell multiple times\n",
    "np.random.randint(1,6+1)"
   ]
  },
  {
   "cell_type": "markdown",
   "id": "e06655ff",
   "metadata": {},
   "source": [
    "* Everytime you run this cell, you are throwing a dice and the outcome if this experiment is totally random (1, 2, 3, 4, 5 or 6), we simply call it a **`random experiment`**.\n",
    "* ❓How would you roll 3 dices simultaneously. Read the [numpy.random.randint](https://numpy.org/doc/stable/reference/random/generated/numpy.random.randint.html) docs and roll these three dice. ❓"
   ]
  },
  {
   "cell_type": "code",
   "execution_count": 14,
   "id": "3ece435b",
   "metadata": {
    "tags": [
     "challengify"
    ]
   },
   "outputs": [
    {
     "data": {
      "text/plain": [
       "array([1, 2, 6])"
      ]
     },
     "execution_count": 14,
     "metadata": {},
     "output_type": "execute_result"
    }
   ],
   "source": [
    "# YOUR CODE HERE\n",
    "np.random.randint(1,6+1,3)"
   ]
  },
  {
   "cell_type": "markdown",
   "id": "83b6216c",
   "metadata": {},
   "source": [
    "🚀 So now, let's roll our dice `n = 20` times and compute the average outcome. Store the results in an `outcomes` variable and the average of these outcomes in an `average_outcome` variable."
   ]
  },
  {
   "cell_type": "code",
   "execution_count": 19,
   "id": "b870104a",
   "metadata": {
    "tags": [
     "challengify"
    ]
   },
   "outputs": [
    {
     "data": {
      "text/plain": [
       "3.0"
      ]
     },
     "execution_count": 19,
     "metadata": {},
     "output_type": "execute_result"
    }
   ],
   "source": [
    "# YOUR CODE HERE\n",
    "roll = np.random.randint(1,6+1,20)\n",
    "np.mean(roll)"
   ]
  },
  {
   "cell_type": "markdown",
   "id": "e4996a06",
   "metadata": {},
   "source": [
    "🤔 What average value did you expect ? Store it in a `expected_value` variable."
   ]
  },
  {
   "cell_type": "code",
   "execution_count": 23,
   "id": "f9a8243c",
   "metadata": {
    "tags": [
     "challengify"
    ]
   },
   "outputs": [],
   "source": [
    "# YOUR CODE HERE\n",
    "expected_value = 3.5 "
   ]
  },
  {
   "cell_type": "code",
   "execution_count": 24,
   "id": "ac0466c1",
   "metadata": {},
   "outputs": [
    {
     "name": "stdout",
     "output_type": "stream",
     "text": [
      "\n",
      "\u001b[1m============================= test session starts ==============================\u001b[0m\n",
      "platform darwin -- Python 3.10.6, pytest-7.1.3, pluggy-1.0.0 -- /Users/gidahuss/.pyenv/versions/lewagon/bin/python3\n",
      "cachedir: .pytest_cache\n",
      "rootdir: /Users/gidahuss/code/gidahuss/data-law-of-large-numbers/tests\n",
      "plugins: anyio-3.6.1\n",
      "\u001b[1mcollecting ... \u001b[0mcollected 1 item\n",
      "\n",
      "test_expected_value_dice.py::TestExpectedValueDice::test_expected_value_dice \u001b[32mPASSED\u001b[0m\u001b[32m [100%]\u001b[0m\n",
      "\n",
      "\u001b[32m============================== \u001b[32m\u001b[1m1 passed\u001b[0m\u001b[32m in 0.03s\u001b[0m\u001b[32m ===============================\u001b[0m\n",
      "\n",
      "\n",
      "💯 You can commit your code:\n",
      "\n",
      "\u001b[1;32mgit\u001b[39m add tests/expected_value_dice.pickle\n",
      "\n",
      "\u001b[32mgit\u001b[39m commit -m \u001b[33m'Completed expected_value_dice step'\u001b[39m\n",
      "\n",
      "\u001b[32mgit\u001b[39m push origin master\n",
      "\n"
     ]
    }
   ],
   "source": [
    "from nbresult import ChallengeResult\n",
    "\n",
    "result = ChallengeResult('expected_value_dice',\n",
    "    expected_value=expected_value\n",
    ")\n",
    "result.write()\n",
    "print(result.check())"
   ]
  },
  {
   "cell_type": "markdown",
   "id": "2666735c",
   "metadata": {},
   "source": [
    "<details>\n",
    "    <summary>Explanations <i>(Take some time to think about the expected average value before untoggling this section!)</i></summary>\n",
    "\n",
    "We can represent the different outcomes of the random experiment \"rolling a dice\" into a table with their respective probabilities.\n",
    "\n",
    "\n",
    "\n",
    "| Possible outcomes | 1   | 2   | 3   | 4   | 5   | 6   | Total |\n",
    "|-------------------|-----|-----|-----|-----|-----|-----|-------|\n",
    "| Probabilities     | 1/6 | 1/6 | 1/6 | 1/6 | 1/6 | 1/6 | 100%  |\n",
    "    \n",
    "The `expected/theoretical average value` can be computed as follows:\n",
    "    \n",
    "\n",
    "$$ \\mathbb{E}[X] = 1 \\times \\frac{1}{6} + 2 \\times \\frac{1}{6} + 3 \\times \\frac{1}{6} + 4 \\times \\frac{1}{6} + 5 \\times \\frac{1}{6} + 6 \\times \\frac{1}{6} = 3.5 $$\n",
    " \n",
    "where `X` denotes the `random outcome` of `rolling a dice`.\n",
    "\n",
    "👉 We say that `X` is a `random variable`\n",
    "\n",
    "</details>\n",
    "\n",
    "--- \n",
    "\n",
    "🔥 Let's verify the Law of Large Numbers for this 🎲 rolling a dice experiment.\n",
    "\n",
    "***Questions :***\n",
    "\n",
    "👉 Play with the number of trials and compute the associated average outcome.\n",
    "\n",
    "🎨 Plot the average outcome vs. the number of trials."
   ]
  },
  {
   "cell_type": "code",
   "execution_count": null,
   "id": "5d1dc08f",
   "metadata": {
    "tags": [
     "challengify"
    ]
   },
   "outputs": [],
   "source": [
    "# YOUR CODE HERE"
   ]
  },
  {
   "cell_type": "markdown",
   "id": "445302ac",
   "metadata": {},
   "source": [
    "🎉 We can visually notice that the `empirical mean` $ \\bar{X_n} = \\frac{X_1 + X_2 + ... + X_{n-1} + X_n}{n}$ `converges towards the expected value` $ \\mu = 3.5 $ as the *number of trials n increases* !"
   ]
  },
  {
   "cell_type": "markdown",
   "id": "83af52fe",
   "metadata": {},
   "source": [
    "## 🪙 Tossing a coin "
   ]
  },
  {
   "cell_type": "markdown",
   "id": "3beb07f8",
   "metadata": {},
   "source": [
    "### One time"
   ]
  },
  {
   "cell_type": "markdown",
   "id": "39d3ddff",
   "metadata": {},
   "source": [
    "👉 Let's run the same experiment with toss a coin instead.\n",
    "\n",
    "* The outcomes are now 0 and 1.\n",
    "* If you run the experiment 100 times, most likely you will have approximately 50 heads and 50 tails.\n",
    "* Let's define \"head\" as a successful experiment and $p$ as the probability of having a head. Intuitively, $ p = \\frac{1}{2} = 0.5 = 50 \\%$\n",
    "\n",
    "🤓 A random experiment with two possibles outcomes `success/failure`and $p$ as the `probability of success` is said to follow a **`Bernoulli distribution`** with parameter `p` $ \\in [0,1] $\n",
    "\n",
    "🔥 Let's verify the `Law of Large Numbers` for this `tossing a coin` experiment.\n",
    "\n",
    "***Questions :***\n",
    "\n",
    "👉 `Play with the number of trials in the cell below` and visualize the associated plot of average outcome vs. the number of trials."
   ]
  },
  {
   "cell_type": "code",
   "execution_count": null,
   "id": "5a7d24b3",
   "metadata": {},
   "outputs": [],
   "source": [
    "number_of_trials = 500 # play this this number\n",
    "p = 0.5 # expected value of the coin"
   ]
  },
  {
   "cell_type": "code",
   "execution_count": null,
   "id": "5a5887fe",
   "metadata": {},
   "outputs": [],
   "source": [
    "#############################################\n",
    "#     playing with the number of trials     #\n",
    "#############################################\n",
    "trials = np.arange(1,number_of_trials + 1,1)\n",
    "results = [np.mean(np.random.randint(0,1+1, n)) for n in trials]\n",
    "    \n",
    "#############################################\n",
    "#            plotting the results           #\n",
    "#############################################\n",
    "        \n",
    "plt.figure(figsize=(20,10))\n",
    "\n",
    "plt.plot(results,label='empirical means')\n",
    "plt.plot([p]*len(results),label='p', color = \"red\")\n",
    "\n",
    "plt.title('Law of Large Numbers : The empirical mean converges towards the theoretical mean')\n",
    "plt.xlabel('Number of trials')\n",
    "plt.ylabel('Theoretical mean')\n",
    "\n",
    "plt.legend(loc='best')\n",
    "plt.show()"
   ]
  },
  {
   "cell_type": "markdown",
   "id": "a895acf6",
   "metadata": {},
   "source": [
    "🎉 We can visually notice that the `empirical mean` $ \\bar{X_n} = \\frac{X_1 + X_2 + ... + X_{n-1} + X_n}{n}$ `converges towards the expected value` $ \\mu = 0.5 $ as the *number of trials n increases* !"
   ]
  },
  {
   "cell_type": "markdown",
   "id": "c395d8ab",
   "metadata": {},
   "source": [
    "### Multiple times"
   ]
  },
  {
   "cell_type": "markdown",
   "id": "4d019568",
   "metadata": {},
   "source": [
    "👉 Here, ***ONE experiment*** consists of :\n",
    "* tossing a coin `n_times`\n",
    "* every trial has a `probability p` of success.\n",
    "\n",
    "👉 After running one experiment, we can count the `number of successes` between `no success` and `n_times successes`.\n",
    "\n",
    "📚 A random experiment with:\n",
    "- two possible outcomes `success/failure`\n",
    "- `p` $ \\in [0,1] $ as the `probability of success`\n",
    "- `n` $ \\in \\mathbb{N} $ trials\n",
    "\n",
    "is said to follow a **`Binomial distribution (n,p)`** distribution.\n",
    "\n",
    "😉 If you think about it, **`a Binomial distribution (n,p) is the sum of n independent Bernoulli(p) random variables`** !\n",
    "\n",
    "---\n",
    "\n",
    "❓ In the following cell, use [numpy.random.binomial](https://numpy.org/doc/stable/reference/random/generated/numpy.random.binomial.html) to simulate **ONE Binomial Experience** in Python with:\n",
    "- $p = 0.7$ (imagine that your coin is biased)\n",
    "- $n = 10$ trials\n",
    "\n"
   ]
  },
  {
   "cell_type": "code",
   "execution_count": null,
   "id": "4e09dba8",
   "metadata": {},
   "outputs": [],
   "source": [
    "# Run this cell multiple times \n",
    "# for one realisation of a Binomial Experience\n",
    "\n",
    "n = 10  # tossing a coin n times\n",
    "p = 0.7 # probability of success defined by p\n",
    "\n",
    "pass  # YOUR CODE HERE"
   ]
  },
  {
   "cell_type": "markdown",
   "id": "9ff43b79",
   "metadata": {},
   "source": [
    "❓ Now, repeat this experiment $N = 20$ times and store the N results in a list\n",
    "\n",
    "<details>\n",
    "    <summary><i>Hint</i></summary>\n",
    "    \n",
    "Run the cell multiple times and observe the randomness...!\n",
    "    \n",
    "</details>"
   ]
  },
  {
   "cell_type": "code",
   "execution_count": null,
   "id": "84e52ea5",
   "metadata": {},
   "outputs": [],
   "source": [
    "# Run this cell multiple times \n",
    "# for N realisations of a Binomial Experience\n",
    "\n",
    "N = 20  # number of experiment\n",
    "n = 10  # tossing a coin n times\n",
    "p = 0.7 # probability of success defined by p\n",
    "\n",
    "pass  # YOUR CODE HERE"
   ]
  },
  {
   "cell_type": "markdown",
   "id": "a2a0e089",
   "metadata": {},
   "source": [
    "🔥 Let's verify the `Law of Large Numbers` for this `tossing a coin multiple times` experiment\n",
    "\n",
    "***Questions:***\n",
    "\n",
    "🤔 What average value did you expect ? Store into a `expected_value_coins` variable."
   ]
  },
  {
   "cell_type": "code",
   "execution_count": null,
   "id": "0875abd2",
   "metadata": {
    "tags": []
   },
   "outputs": [],
   "source": [
    "expected_value_coins = None"
   ]
  },
  {
   "cell_type": "code",
   "execution_count": null,
   "id": "12ae9e8b",
   "metadata": {},
   "outputs": [],
   "source": [
    "from nbresult import ChallengeResult\n",
    "\n",
    "result = ChallengeResult('expected_value_coins',\n",
    "    expected_value_coins=expected_value_coins\n",
    ")\n",
    "result.write()\n",
    "print(result.check())"
   ]
  },
  {
   "cell_type": "markdown",
   "id": "6e882462",
   "metadata": {},
   "source": [
    "<details>\n",
    "    <summary>Explanations</summary>\n",
    "\n",
    "💡 For one Binomial Experience with $n = 10$ tosses and $p = 0.7$, you would expect $ n \\times p = 10 \\times 0.7 = 7$ successes.\n",
    "    \n",
    "📚 This result holds for any `Binomial(n,p)` random experiment!\n",
    "    \n",
    "$$ \\mathbb{E}[X] = np $$\n",
    "    \n",
    "</details>"
   ]
  },
  {
   "cell_type": "markdown",
   "id": "40dd379a",
   "metadata": {},
   "source": [
    "📈 Vizualize these results below"
   ]
  },
  {
   "cell_type": "code",
   "execution_count": null,
   "id": "1f3fac68",
   "metadata": {
    "tags": []
   },
   "outputs": [],
   "source": [
    "#############################################\n",
    "#     playing with the number of trials     #\n",
    "#############################################\n",
    "p = 0.7\n",
    "n = 10\n",
    "N = 1000\n",
    "\n",
    "trials = np.arange(1,N + 1,1)\n",
    "results = [np.mean(np.random.binomial(n = n,p = p, size = N)) for N in trials]\n",
    "    \n",
    "#############################################\n",
    "#            plotting the results           #\n",
    "#############################################\n",
    "    \n",
    "    \n",
    "plt.figure(figsize=(20,10))\n",
    "\n",
    "plt.plot(results,label='empirical means')\n",
    "plt.plot([expected_value_coins]*len(results),label='mu', color = \"red\")\n",
    "\n",
    "plt.title('Law of Large Numbers : The empirical mean converges towards the theoretical mean')\n",
    "plt.xlabel('Number of trials')\n",
    "plt.ylabel('Theoretical mean')\n",
    "\n",
    "plt.legend(loc='best')\n",
    "plt.show()"
   ]
  },
  {
   "cell_type": "markdown",
   "id": "1673760c",
   "metadata": {},
   "source": [
    "🏁 Congratulations !!!\n",
    "\n",
    "🔥 You've mastered one of the most fundamental theorems of `Probability Theory`, the `Law of Large Numbers`.\n",
    "\n",
    "💾 Do not forget to `add/commit/push` your challenge !\n",
    "\n",
    "---\n",
    "\n",
    "***Additional ressources***\n",
    "\n",
    "📺 [Law of Large Numbers - Explained and Visualized](https://www.youtube.com/watch?v=MntX3zWNWec) by Jeremy Blitz-Jones (4 min 11 sec)\n",
    "\n",
    "🤓 Only for math nerds and completely overkill/unnecessary for data scientists:\n",
    "- [ProbabilityCourse.com - LLN](https://www.probabilitycourse.com/chapter7/7_1_1_law_of_large_numbers.php)\n",
    "- [Oxford University - LLN](http://www.stats.ox.ac.uk/~winkel/bs3a07l9-10.pdf)\n"
   ]
  },
  {
   "cell_type": "code",
   "execution_count": null,
   "id": "65b95f2e",
   "metadata": {},
   "outputs": [],
   "source": []
  }
 ],
 "metadata": {
  "kernelspec": {
   "display_name": "Python 3 (ipykernel)",
   "language": "python",
   "name": "python3"
  },
  "language_info": {
   "codemirror_mode": {
    "name": "ipython",
    "version": 3
   },
   "file_extension": ".py",
   "mimetype": "text/x-python",
   "name": "python",
   "nbconvert_exporter": "python",
   "pygments_lexer": "ipython3",
   "version": "3.10.6"
  },
  "toc": {
   "base_numbering": 1,
   "nav_menu": {},
   "number_sections": true,
   "sideBar": true,
   "skip_h1_title": false,
   "title_cell": "Table of Contents",
   "title_sidebar": "Contents",
   "toc_cell": false,
   "toc_position": {},
   "toc_section_display": true,
   "toc_window_display": false
  },
  "varInspector": {
   "cols": {
    "lenName": 16,
    "lenType": 16,
    "lenVar": 40
   },
   "kernels_config": {
    "python": {
     "delete_cmd_postfix": "",
     "delete_cmd_prefix": "del ",
     "library": "var_list.py",
     "varRefreshCmd": "print(var_dic_list())"
    },
    "r": {
     "delete_cmd_postfix": ") ",
     "delete_cmd_prefix": "rm(",
     "library": "var_list.r",
     "varRefreshCmd": "cat(var_dic_list()) "
    }
   },
   "types_to_exclude": [
    "module",
    "function",
    "builtin_function_or_method",
    "instance",
    "_Feature"
   ],
   "window_display": false
  }
 },
 "nbformat": 4,
 "nbformat_minor": 5
}
